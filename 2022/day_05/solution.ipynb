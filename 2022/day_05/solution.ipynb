{
 "cells": [
  {
   "cell_type": "markdown",
   "metadata": {},
   "source": [
    "# Advent of Code: Day 5 Supply Stacks\n",
    "link to challenge: [Day 5](https://adventofcode.com/2022/day/5)"
   ]
  },
  {
   "cell_type": "markdown",
   "metadata": {},
   "source": [
    "# Part 1"
   ]
  },
  {
   "cell_type": "code",
   "execution_count": 108,
   "metadata": {},
   "outputs": [],
   "source": [
    "import copy"
   ]
  },
  {
   "cell_type": "code",
   "execution_count": 81,
   "metadata": {},
   "outputs": [],
   "source": [
    "f = open(\"input.txt\", \"r\")\n",
    "input = f.read().splitlines()"
   ]
  },
  {
   "cell_type": "code",
   "execution_count": 109,
   "metadata": {},
   "outputs": [
    {
     "data": {
      "text/plain": [
       "[['H', 'C', 'R'],\n",
       " ['B', 'J', 'H', 'L', 'S', 'F'],\n",
       " ['R', 'M', 'D', 'H', 'J', 'T', 'Q'],\n",
       " ['S', 'G', 'R', 'H', 'Z', 'B', 'J'],\n",
       " ['R', 'P', 'F', 'Z', 'T', 'D', 'C', 'B'],\n",
       " ['T', 'H', 'C', 'G'],\n",
       " ['S', 'N', 'V', 'Z', 'B', 'P', 'W', 'L'],\n",
       " ['R', 'J', 'Q', 'G', 'C'],\n",
       " ['L', 'D', 'T', 'R', 'H', 'P', 'F', 'S']]"
      ]
     },
     "execution_count": 109,
     "metadata": {},
     "output_type": "execute_result"
    }
   ],
   "source": [
    "# separate the stacks in the input\n",
    "n = 4\n",
    "stacks = [[line[i:i+n].strip().replace('[','').replace(']','') for i in range(0, len(line), n)] for line in input[:8]]\n",
    "\n",
    "# transpose and reverse stacks to enable use as stack object\n",
    "stacks = [list(x) for x in zip(*stacks)]\n",
    "[stack.reverse() for stack in stacks]\n",
    "\n",
    "# remove empty elements from each stack\n",
    "stacks = [[ele for ele in stack if ele] for stack in stacks]\n",
    "stacks"
   ]
  },
  {
   "cell_type": "code",
   "execution_count": 88,
   "metadata": {},
   "outputs": [
    {
     "data": {
      "text/plain": [
       "[['8', '7', '1'], ['9', '1', '9'], ['4', '5', '4']]"
      ]
     },
     "execution_count": 88,
     "metadata": {},
     "output_type": "execute_result"
    }
   ],
   "source": [
    "# get instructions\n",
    "instr = input[10:]\n",
    "\n",
    "# extract values only from instructions\n",
    "instr = [line.replace('move ', '').replace(' from', '').replace('to ', '') for line in instr]\n",
    "instr = [line.split() for line in instr]\n",
    "instr[:3]"
   ]
  },
  {
   "cell_type": "code",
   "execution_count": 110,
   "metadata": {},
   "outputs": [
    {
     "name": "stdout",
     "output_type": "stream",
     "text": [
      "[['M', 'V', 'Q', 'F', 'H', 'G', 'T', 'C', 'H', 'F', 'S'], ['R', 'J', 'B', 'Z', 'P', 'C', 'H'], ['J', 'R', 'D', 'Z', 'D', 'Q'], ['W'], ['J', 'G', 'S'], ['R'], ['T', 'B'], ['B', 'P', 'F', 'R', 'B', 'H', 'H', 'S', 'C', 'H', 'C', 'N', 'Z', 'P', 'G', 'L', 'L', 'R', 'S', 'J', 'T', 'R', 'T', 'D'], ['L']]\n"
     ]
    }
   ],
   "source": [
    "stacks_updated = copy.deepcopy(stacks)\n",
    "\n",
    "for move in instr:\n",
    "\n",
    "    for i in range(int(move[0])):\n",
    "        stacks_updated[int(move[2]) - 1].append(stacks_updated[int(move[1]) - 1].pop())\n",
    "print(stacks_updated)"
   ]
  },
  {
   "cell_type": "code",
   "execution_count": 111,
   "metadata": {},
   "outputs": [
    {
     "data": {
      "text/plain": [
       "'SHQWSRBDL'"
      ]
     },
     "execution_count": 111,
     "metadata": {},
     "output_type": "execute_result"
    }
   ],
   "source": [
    "''.join([line.pop() for line in stacks_updated])"
   ]
  },
  {
   "cell_type": "markdown",
   "metadata": {},
   "source": [
    "# Part 2"
   ]
  },
  {
   "cell_type": "code",
   "execution_count": 129,
   "metadata": {},
   "outputs": [
    {
     "name": "stdout",
     "output_type": "stream",
     "text": [
      "[['S', 'D', 'M', 'H', 'R', 'T', 'J', 'T', 'B', 'Q', 'C'], ['B', 'P', 'T', 'N', 'C', 'Z', 'D'], ['S', 'R', 'H', 'R', 'W', 'T'], ['Q'], ['F', 'Z', 'Z'], ['H'], ['G', 'B'], ['G', 'G', 'B', 'L', 'H', 'C', 'J', 'C', 'P', 'J', 'D', 'L', 'H', 'R', 'L', 'S', 'V', 'F', 'H', 'J', 'P', 'F', 'R', 'R'], ['S']]\n"
     ]
    }
   ],
   "source": [
    "stacks_updated = copy.deepcopy(stacks)\n",
    "\n",
    "for move in instr:\n",
    "    dest = stacks_updated[int(move[2]) - 1]\n",
    "\n",
    "    origin = stacks_updated[int(move[1]) - 1][-(int(move[0])):]\n",
    "\n",
    "\n",
    "    stacks_updated[int(move[2]) - 1] = dest + origin\n",
    "\n",
    "    del stacks_updated[int(move[1]) - 1][-(int(move[0])):]\n",
    "\n",
    "print(stacks_updated)"
   ]
  },
  {
   "cell_type": "code",
   "execution_count": 130,
   "metadata": {},
   "outputs": [
    {
     "data": {
      "text/plain": [
       "'CDTQZHBRS'"
      ]
     },
     "execution_count": 130,
     "metadata": {},
     "output_type": "execute_result"
    }
   ],
   "source": [
    "''.join([line.pop() for line in stacks_updated])"
   ]
  }
 ],
 "metadata": {
  "kernelspec": {
   "display_name": "Python 3.9.12 ('base')",
   "language": "python",
   "name": "python3"
  },
  "language_info": {
   "codemirror_mode": {
    "name": "ipython",
    "version": 3
   },
   "file_extension": ".py",
   "mimetype": "text/x-python",
   "name": "python",
   "nbconvert_exporter": "python",
   "pygments_lexer": "ipython3",
   "version": "3.8.3"
  },
  "orig_nbformat": 4,
  "vscode": {
   "interpreter": {
    "hash": "3398a358859721ce27405e42f64a3e6acad3c1eab44e36de6ebc56b21922ba5f"
   }
  }
 },
 "nbformat": 4,
 "nbformat_minor": 2
}
