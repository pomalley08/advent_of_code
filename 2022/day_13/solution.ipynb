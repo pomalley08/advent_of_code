{
 "cells": [
  {
   "attachments": {},
   "cell_type": "markdown",
   "metadata": {},
   "source": [
    "# Advent of Code: Day 13 Distress Signal\n",
    "link to challenge: [Day 13](https://adventofcode.com/2022/day/13)"
   ]
  },
  {
   "cell_type": "markdown",
   "metadata": {},
   "source": [
    "# Part 1"
   ]
  },
  {
   "cell_type": "code",
   "execution_count": 7,
   "metadata": {},
   "outputs": [],
   "source": [
    "import json"
   ]
  },
  {
   "cell_type": "code",
   "execution_count": 132,
   "metadata": {},
   "outputs": [
    {
     "data": {
      "text/plain": [
       "21307"
      ]
     },
     "execution_count": 132,
     "metadata": {},
     "output_type": "execute_result"
    }
   ],
   "source": [
    "f = open(\"input.txt\", \"r\")\n",
    "input = f.read().strip()\n",
    "len(input)"
   ]
  },
  {
   "cell_type": "code",
   "execution_count": 133,
   "metadata": {},
   "outputs": [
    {
     "data": {
      "text/plain": [
       "([[[], [], 8, 3], [10]],\n",
       " [[[[7], [0, 4, 6, 1]],\n",
       "   [[2, 1, 5, 3, 6], []],\n",
       "   [3, [10, 9, 1], 2, [10, 6, 10], 7],\n",
       "   2,\n",
       "   7],\n",
       "  [5, [3], 7, 10, [8, [4, 7, 1, 7, 8], [], 1, [8, 6]]],\n",
       "  [5,\n",
       "   7,\n",
       "   [[5, 5, 7, 2, 10], [8, 7, 10, 4, 7], [9, 4, 9, 9, 1]],\n",
       "   [[8], 8, 5, [7, 3, 4, 6, 1], 1]]])"
      ]
     },
     "execution_count": 133,
     "metadata": {},
     "output_type": "execute_result"
    }
   ],
   "source": [
    "\n",
    "\n",
    "\n",
    "input = input.split(\"\\n\\n\")\n",
    "packets = []\n",
    "for x in input:\n",
    "    left, right = x.split(\"\\n\")\n",
    "    packets.append((json.loads(left),json.loads(right)))\n",
    "\n",
    "packets[0]"
   ]
  },
  {
   "cell_type": "code",
   "execution_count": 134,
   "metadata": {},
   "outputs": [
    {
     "name": "stdout",
     "output_type": "stream",
     "text": [
      "5208\n"
     ]
    }
   ],
   "source": [
    "\n",
    "def compare_elements(left,right):\n",
    "    if isinstance(left, int) & isinstance(right, int):\n",
    "        if left < right:\n",
    "            return -1\n",
    "        elif left == right:\n",
    "            return 0\n",
    "        else:\n",
    "            return 1\n",
    "    elif isinstance(left, list) & isinstance(right, int):\n",
    "        right = [right]\n",
    "    elif isinstance(left, int) & isinstance(right, list):\n",
    "        left = [left]\n",
    "\n",
    "    len_left = len(left)\n",
    "    len_right = len(right)\n",
    "    for left1, right1 in zip(left, right):\n",
    "        result = compare_elements(left1, right1)\n",
    "        if result != 0:\n",
    "            return result\n",
    "    if len_left < len_right:\n",
    "        return -1\n",
    "    elif len_left == len_right:\n",
    "        return 0\n",
    "    else:\n",
    "        return 1\n",
    "\n",
    "\n",
    "correct_indices = []\n",
    "for i, (left, right) in enumerate(packets):\n",
    "    if compare_elements(left, right) == -1:\n",
    "        correct_indices.append(i + 1)\n",
    "print(sum(correct_indices))\n",
    "\n"
   ]
  },
  {
   "cell_type": "markdown",
   "metadata": {},
   "source": [
    "# Part 2"
   ]
  }
 ],
 "metadata": {
  "kernelspec": {
   "display_name": "Python 3.9.12 ('base')",
   "language": "python",
   "name": "python3"
  },
  "language_info": {
   "codemirror_mode": {
    "name": "ipython",
    "version": 3
   },
   "file_extension": ".py",
   "mimetype": "text/x-python",
   "name": "python",
   "nbconvert_exporter": "python",
   "pygments_lexer": "ipython3",
   "version": "3.9.12"
  },
  "orig_nbformat": 4,
  "vscode": {
   "interpreter": {
    "hash": "3398a358859721ce27405e42f64a3e6acad3c1eab44e36de6ebc56b21922ba5f"
   }
  }
 },
 "nbformat": 4,
 "nbformat_minor": 2
}
