{
 "cells": [
  {
   "cell_type": "markdown",
   "metadata": {},
   "source": [
    "# Advent of Code: Day 6 Tuning Trouble\n",
    "link to challenge: [Day 6](https://adventofcode.com/2022/day/6)"
   ]
  },
  {
   "cell_type": "markdown",
   "metadata": {},
   "source": [
    "# Part 1"
   ]
  },
  {
   "cell_type": "code",
   "execution_count": 1,
   "metadata": {},
   "outputs": [],
   "source": [
    "f = open(\"input.txt\", \"r\")\n",
    "signal = f.read()"
   ]
  },
  {
   "cell_type": "code",
   "execution_count": 5,
   "metadata": {},
   "outputs": [],
   "source": [
    "from collections import deque"
   ]
  },
  {
   "cell_type": "code",
   "execution_count": 21,
   "metadata": {},
   "outputs": [
    {
     "name": "stdout",
     "output_type": "stream",
     "text": [
      "deque(['b', 'd', 'j', 'q'])\n",
      "1578\n"
     ]
    }
   ],
   "source": [
    "marker_window = deque([])\n",
    "\n",
    "for i, char in enumerate(signal):\n",
    "    \n",
    "    if len(marker_window) < 4:\n",
    "        marker_window.append(char)\n",
    "    else:\n",
    "        marker_window.popleft()\n",
    "        marker_window.append(char)\n",
    "        if len(set(list(marker_window))) == 4:\n",
    "            print(marker_window)\n",
    "            print(i + 1)\n",
    "            break\n"
   ]
  },
  {
   "cell_type": "markdown",
   "metadata": {},
   "source": [
    "# Part 2"
   ]
  },
  {
   "cell_type": "code",
   "execution_count": 26,
   "metadata": {},
   "outputs": [
    {
     "name": "stdout",
     "output_type": "stream",
     "text": [
      "deque(['m', 'd', 'c', 'b', 'n', 'w', 'q', 'g', 's', 'h', 'p', 'v', 'f', 'j'])\n",
      "2178\n"
     ]
    }
   ],
   "source": [
    "marker_window = deque([])\n",
    "\n",
    "\n",
    "for i, char in enumerate(signal):\n",
    "    \n",
    "    if len(marker_window) < 14:\n",
    "        marker_window.append(char)\n",
    "    else:\n",
    "\n",
    "        marker_window.popleft()\n",
    "        marker_window.append(char)\n",
    "        if len(set(list(marker_window))) == 14:\n",
    "            print(marker_window)\n",
    "            print(i + 1)\n",
    "            break\n"
   ]
  }
 ],
 "metadata": {
  "kernelspec": {
   "display_name": "Python 3.9.12 ('base')",
   "language": "python",
   "name": "python3"
  },
  "language_info": {
   "codemirror_mode": {
    "name": "ipython",
    "version": 3
   },
   "file_extension": ".py",
   "mimetype": "text/x-python",
   "name": "python",
   "nbconvert_exporter": "python",
   "pygments_lexer": "ipython3",
   "version": "3.8.3"
  },
  "orig_nbformat": 4,
  "vscode": {
   "interpreter": {
    "hash": "3398a358859721ce27405e42f64a3e6acad3c1eab44e36de6ebc56b21922ba5f"
   }
  }
 },
 "nbformat": 4,
 "nbformat_minor": 2
}
