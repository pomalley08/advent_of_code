{
 "cells": [
  {
   "cell_type": "markdown",
   "metadata": {},
   "source": [
    "# Advent of Code: Day 4 Camp Cleanup\n",
    "link to challenge: [Day 4](https://adventofcode.com/2022/day/4)"
   ]
  },
  {
   "cell_type": "markdown",
   "metadata": {},
   "source": [
    "# Part 1\n",
    "Space needs to be cleared before the last supplies can be unloaded from the ships, and so several Elves have been assigned the job of cleaning up sections of the camp. Every section has a unique ID number, and each Elf is assigned a range of section IDs.\n",
    "\n",
    "However, as some of the Elves compare their section assignments with each other, they've noticed that many of the assignments overlap. To try to quickly find overlaps and reduce duplicated effort, the Elves pair up and make a big list of the section assignments for each pair (your puzzle input).\n",
    "\n",
    "For example, consider the following list of section assignment pairs:\n",
    "\n",
    "2-4,6-8  \n",
    "2-3,4-5  \n",
    "5-7,7-9  \n",
    "2-8,3-7  \n",
    "6-6,4-6  \n",
    "2-6,4-8  \n",
    "\n",
    "For the first few pairs, this list means:\n",
    "\n",
    "    Within the first pair of Elves, the first Elf was assigned sections 2-4 (sections 2, 3, and 4), while the second Elf was assigned sections 6-8 (sections 6, 7, 8).\n",
    "    The Elves in the second pair were each assigned two sections.\n",
    "    The Elves in the third pair were each assigned three sections: one got sections 5, 6, and 7, while the other also got 7, plus 8 and 9.\n",
    "\n",
    "This example list uses single-digit section IDs to make it easier to draw; your actual list might contain larger numbers. Visually, these pairs of section assignments look like this:\n",
    "\n",
    ".234.....  2-4  \n",
    ".....678.  6-8  \n",
    "\n",
    ".23......  2-3  \n",
    "...45....  4-5  \n",
    "\n",
    "....567..  5-7  \n",
    "......789  7-9  \n",
    "\n",
    ".2345678.  2-8  \n",
    "..34567..  3-7  \n",
    "\n",
    ".....6...  6-6  \n",
    "...456...  4-6  \n",
    "\n",
    ".23456...  2-6  \n",
    "...45678.  4-8  \n",
    "\n",
    "Some of the pairs have noticed that one of their assignments fully contains the other. For example, 2-8 fully contains 3-7, and 6-6 is fully contained by 4-6. In pairs where one assignment fully contains the other, one Elf in the pair would be exclusively cleaning sections their partner will already be cleaning, so these seem like the most in need of reconsideration. In this example, there are 2 such pairs.\n",
    "\n",
    "In how many assignment pairs does one range fully contain the other?"
   ]
  },
  {
   "cell_type": "code",
   "execution_count": 5,
   "metadata": {},
   "outputs": [
    {
     "data": {
      "text/plain": [
       "[['37-87', '36-87'], ['3-98', '3-84'], ['33-73', '33-33']]"
      ]
     },
     "execution_count": 5,
     "metadata": {},
     "output_type": "execute_result"
    }
   ],
   "source": [
    "f = open(\"input.txt\", \"r\")\n",
    "pairs = f.read().splitlines()\n",
    "\n",
    "\n",
    "pairs = [pair.split(sep=',') for pair in pairs]\n",
    "pairs[:3]"
   ]
  },
  {
   "cell_type": "code",
   "execution_count": 40,
   "metadata": {},
   "outputs": [
    {
     "name": "stdout",
     "output_type": "stream",
     "text": [
      "651\n"
     ]
    }
   ],
   "source": [
    "pair_overlaps = 0\n",
    "for pair in pairs:\n",
    "    elf1_range = pair[0].split(sep='-')\n",
    "    elf1_seq = list(range(int(elf1_range[0]), int(elf1_range[1]) + 1))\n",
    "    elf1_seq_len = len(elf1_seq)\n",
    "    \n",
    "    elf2_range = pair[1].split(sep='-')\n",
    "    elf2_seq = list(range(int(elf2_range[0]), int(elf2_range[1]) + 1))\n",
    "    elf2_seq_len = len(elf2_seq)\n",
    "    i = 0\n",
    "    j = 0\n",
    "    overlap = False\n",
    "    \n",
    "    for num in elf1_seq:\n",
    "        i+=1\n",
    "        if num not in elf2_seq:\n",
    "            break\n",
    "        if i == elf1_seq_len:\n",
    "            overlap = True\n",
    "\n",
    "    \n",
    "    for num in elf2_seq:\n",
    "        j+=1\n",
    "        if num not in elf1_seq:\n",
    "            break\n",
    "        if j == elf2_seq_len:\n",
    "            overlap = True\n",
    "    \n",
    "    if overlap == True:\n",
    "        pair_overlaps+=1\n",
    "print(pair_overlaps)\n",
    "        \n"
   ]
  },
  {
   "cell_type": "markdown",
   "metadata": {},
   "source": [
    "# Part 2\n",
    "It seems like there is still quite a bit of duplicate work planned. Instead, the Elves would like to know the number of pairs that overlap at all.\n",
    "\n",
    "In the above example, the first two pairs (2-4,6-8 and 2-3,4-5) don't overlap, while the remaining four pairs (5-7,7-9, 2-8,3-7, 6-6,4-6, and 2-6,4-8) do overlap:\n",
    "\n",
    "- 5-7,7-9 overlaps in a single section, 7.  \n",
    "- 2-8,3-7 overlaps all of the sections 3 through 7.  \n",
    "- 6-6,4-6 overlaps in a single section, 6.  \n",
    "- 2-6,4-8 overlaps in sections 4, 5, and 6.  \n",
    "\n",
    "So, in this example, the number of overlapping assignment pairs is 4.\n",
    "\n",
    "In how many assignment pairs do the ranges overlap?"
   ]
  },
  {
   "cell_type": "code",
   "execution_count": 44,
   "metadata": {},
   "outputs": [
    {
     "name": "stdout",
     "output_type": "stream",
     "text": [
      "956\n"
     ]
    }
   ],
   "source": [
    "pair_overlaps = 0\n",
    "for pair in pairs:\n",
    "    elf1_range = pair[0].split(sep='-')\n",
    "    elf1_seq = list(range(int(elf1_range[0]), int(elf1_range[1]) + 1))\n",
    "    elf1_seq_len = len(elf1_seq)\n",
    "    \n",
    "    elf2_range = pair[1].split(sep='-')\n",
    "    elf2_seq = list(range(int(elf2_range[0]), int(elf2_range[1]) + 1))\n",
    "    elf2_seq_len = len(elf2_seq)\n",
    "    i = 0\n",
    "    j = 0\n",
    "    overlap = False\n",
    "    \n",
    "    for num in elf1_seq:\n",
    "        i+=1\n",
    "        if num in elf2_seq:\n",
    "            overlap = True\n",
    "\n",
    "    \n",
    "    for num in elf2_seq:\n",
    "        j+=1\n",
    "        if num in elf1_seq:\n",
    "            overlap = True\n",
    "    \n",
    "    if overlap == True:\n",
    "        pair_overlaps+=1\n",
    "print(pair_overlaps)\n",
    "        \n"
   ]
  }
 ],
 "metadata": {
  "kernelspec": {
   "display_name": "Python 3.9.12 ('base')",
   "language": "python",
   "name": "python3"
  },
  "language_info": {
   "codemirror_mode": {
    "name": "ipython",
    "version": 3
   },
   "file_extension": ".py",
   "mimetype": "text/x-python",
   "name": "python",
   "nbconvert_exporter": "python",
   "pygments_lexer": "ipython3",
   "version": "3.8.3"
  },
  "orig_nbformat": 4,
  "vscode": {
   "interpreter": {
    "hash": "3398a358859721ce27405e42f64a3e6acad3c1eab44e36de6ebc56b21922ba5f"
   }
  }
 },
 "nbformat": 4,
 "nbformat_minor": 2
}
