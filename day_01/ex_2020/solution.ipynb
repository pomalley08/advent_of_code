{
 "cells": [
  {
   "cell_type": "markdown",
   "metadata": {},
   "source": [
    "# Advent of Code: Day 1 Report Repair\n",
    "link to challenge: [Day 1](https://adventofcode.com/2020/day/1)"
   ]
  },
  {
   "cell_type": "markdown",
   "metadata": {},
   "source": [
    "# Part 1\n",
    "After saving Christmas five years in a row, you've decided to take a vacation at a nice resort on a tropical island. Surely, Christmas will go on without you.\n",
    "\n",
    "The tropical island has its own currency and is entirely cash-only. The gold coins used there have a little picture of a starfish; the locals just call them stars. None of the currency exchanges seem to have heard of them, but somehow, you'll need to find fifty of these coins by the time you arrive so you can pay the deposit on your room.\n",
    "\n",
    "To save your vacation, you need to get all fifty stars by December 25th.\n",
    "\n",
    "Collect stars by solving puzzles. Two puzzles will be made available on each day in the Advent calendar; the second puzzle is unlocked when you complete the first. Each puzzle grants one star. Good luck!\n",
    "\n",
    "Before you leave, the Elves in accounting just need you to fix your expense report (your puzzle input); apparently, something isn't quite adding up.\n",
    "\n",
    "Specifically, they need you to find the two entries that sum to 2020 and then multiply those two numbers together.\n",
    "\n",
    "For example, suppose your expense report contained the following:\n",
    "\n",
    "1721  \n",
    "979  \n",
    "366  \n",
    "299  \n",
    "675  \n",
    "1456  \n",
    "In this list, the two entries that sum to 2020 are 1721 and 299. Multiplying them together produces 1721 * 299 = 514579, so the correct answer is 514579.\n",
    "\n",
    "Of course, your expense report is much larger. Find the two entries that sum to 2020; what do you get if you multiply them together?"
   ]
  },
  {
   "cell_type": "code",
   "execution_count": 12,
   "metadata": {},
   "outputs": [
    {
     "name": "stdout",
     "output_type": "stream",
     "text": [
      "['1753', '1976', '1574', '308', '1384', '1191', '1731', '1829', '1658', '1908', '1663', '2001', '1298', '1888', '1134', '1213', '965', '2009', '1071', '1591', '1402', '1184', '1836', '1536', '1038', '1871', '1354', '1149', '1863', '1728', '1896', '1599', '1556', '1222', '1909', '1858', '1754', '1947', '1907', '1656', '1135', '1845', '1504', '1473', '1401', '1700', '1067', '1790', '1783', '1539', '1087', '1614', '1856', '1895', '1564', '1106', '1204', '1492', '1361', '1897', '1977', '1210', '1867', '1797', '1232', '1148', '1520', '1989', '210', '1259', '570', '1512', '1894', '1309', '1154', '1327', '1817', '1875', '1702', '1885', '1664', '1220', '1208', '2000', '1178', '1423', '1454', '1780', '1710', '1362', '1816', '1491', '1363', '1478', '1648', '1163', '1554', '1195', '1500', '1320', '1698', '1636', '1097', '1573', '1846', '1747', '1138', '1083', '1505', '1387', '1900', '1143', '1905', '1826', '1735', '1496', '1687', '1704', '1916', '1991', '1750', '1637', '1742', '691', '1967', '1272', '1657', '1140', '1070', '1985', '1405', '1959', '1218', '1878', '1340', '1722', '2003', '1258', '1726', '1766', '1868', '1714', '1463', '2006', '1537', '1570', '1526', '1578', '1744', '1734', '1325', '196', '1935', '1849', '1424', '1972', '1602', '1859', '1341', '1177', '1901', '1902', '1247', '2004', '1350', '1965', '1407', '836', '1899', '1804', '975', '1510', '1898', '1560', '1777', '1523', '1822', '1830', '1855', '1839', '1482', '1661', '1835', '1343', '1278', '1449', '1136', '1732', '2008', '1686', '1775', '1952', '1444', '1499', '1680', '1752', '1597', '1963', '1117', '776']\n"
     ]
    }
   ],
   "source": [
    "f = open(\"input.txt\", \"r\")\n",
    "expenses = f.read().splitlines()\n",
    "print(expenses)"
   ]
  },
  {
   "cell_type": "code",
   "execution_count": 30,
   "metadata": {},
   "outputs": [
    {
     "name": "stdout",
     "output_type": "stream",
     "text": [
      "Expense 1: 1184\n",
      "Expense 2: 836\n",
      "Expense Product: 989824\n"
     ]
    }
   ],
   "source": [
    "for expense in expenses:\n",
    "    flag = False\n",
    "    for expense2 in expenses:\n",
    "        if int(expense) + int(expense2) == 2020:\n",
    "            flag = True\n",
    "            print(f'Expense 1: {expense}')\n",
    "            print(f'Expense 2: {expense2}')\n",
    "            print(f'Expense Product: {int(expense) * int(expense2)}')\n",
    "            break\n",
    "    if flag == True:\n",
    "        break\n"
   ]
  },
  {
   "cell_type": "markdown",
   "metadata": {},
   "source": [
    "# Part 2\n",
    "The Elves in accounting are thankful for your help; one of them even offers you a starfish coin they had left over from a past vacation. They offer you a second one if you can find three numbers in your expense report that meet the same criteria.\n",
    "\n",
    "Using the above example again, the three entries that sum to 2020 are 979, 366, and 675. Multiplying them together produces the answer, 241861950.\n",
    "\n",
    "In your expense report, what is the product of the three entries that sum to 2020?"
   ]
  },
  {
   "cell_type": "code",
   "execution_count": 31,
   "metadata": {},
   "outputs": [],
   "source": [
    "from itertools import combinations"
   ]
  },
  {
   "cell_type": "code",
   "execution_count": 39,
   "metadata": {},
   "outputs": [],
   "source": [
    "expenses = [int(expense) for expense in expenses]"
   ]
  },
  {
   "cell_type": "code",
   "execution_count": 47,
   "metadata": {},
   "outputs": [
    {
     "name": "stdout",
     "output_type": "stream",
     "text": [
      "Expense 1: 1614\n",
      "Expense 2: 210\n",
      "Expense 2: 196\n",
      "Expense Product: 66432240\n"
     ]
    }
   ],
   "source": [
    "for row in list(combinations(expenses, 3)):\n",
    "    if sum(row) == 2020:\n",
    "        print(f'Expense 1: {row[0]}')\n",
    "        print(f'Expense 2: {row[1]}')\n",
    "        print(f'Expense 2: {row[2]}')\n",
    "        print(f'Expense Product: {row[0] * row[1] * row[2]}')\n",
    "        break"
   ]
  }
 ],
 "metadata": {
  "kernelspec": {
   "display_name": "Python 3.9.12 ('base')",
   "language": "python",
   "name": "python3"
  },
  "language_info": {
   "codemirror_mode": {
    "name": "ipython",
    "version": 3
   },
   "file_extension": ".py",
   "mimetype": "text/x-python",
   "name": "python",
   "nbconvert_exporter": "python",
   "pygments_lexer": "ipython3",
   "version": "3.9.12"
  },
  "orig_nbformat": 4,
  "vscode": {
   "interpreter": {
    "hash": "3398a358859721ce27405e42f64a3e6acad3c1eab44e36de6ebc56b21922ba5f"
   }
  }
 },
 "nbformat": 4,
 "nbformat_minor": 2
}
