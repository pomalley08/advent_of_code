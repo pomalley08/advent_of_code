{
 "cells": [
  {
   "cell_type": "markdown",
   "metadata": {},
   "source": [
    "# Advent of Code: Day 2 Password Philosophy\n",
    "link to challenge: [Day 2](https://adventofcode.com/2020/day/2)"
   ]
  },
  {
   "cell_type": "markdown",
   "metadata": {},
   "source": [
    "# Part 1"
   ]
  },
  {
   "cell_type": "code",
   "execution_count": 2,
   "metadata": {},
   "outputs": [
    {
     "name": "stdout",
     "output_type": "stream",
     "text": [
      "['6-7 z: dqzzzjbzz', '13-16 j: jjjvjmjjkjjjjjjj', '5-6 m: mmbmmlvmbmmgmmf']\n"
     ]
    }
   ],
   "source": [
    "f = open(\"input.txt\", \"r\")\n",
    "passwords = f.read().splitlines()\n",
    "print(passwords[:3])"
   ]
  },
  {
   "cell_type": "code",
   "execution_count": 4,
   "metadata": {},
   "outputs": [
    {
     "data": {
      "text/plain": [
       "[['6-7', 'z:', 'dqzzzjbzz'],\n",
       " ['13-16', 'j:', 'jjjvjmjjkjjjjjjj'],\n",
       " ['5-6', 'm:', 'mmbmmlvmbmmgmmf']]"
      ]
     },
     "execution_count": 4,
     "metadata": {},
     "output_type": "execute_result"
    }
   ],
   "source": [
    "pw_split = [pw.split() for pw in passwords]\n",
    "pw_split[:3]"
   ]
  },
  {
   "cell_type": "code",
   "execution_count": 9,
   "metadata": {},
   "outputs": [],
   "source": [
    "limits = [pw[0].split(sep='-') for pw in pw_split]\n",
    "letters = [pw[1].replace(\":\", \"\") for pw in pw_split]"
   ]
  },
  {
   "cell_type": "code",
   "execution_count": 26,
   "metadata": {},
   "outputs": [
    {
     "name": "stdout",
     "output_type": "stream",
     "text": [
      "542\n"
     ]
    }
   ],
   "source": [
    "total_valid = 0\n",
    "for i, x in enumerate(pw_split):\n",
    "    if (x[2].count(letters[i]) >= int(limits[i][0])) & (x[2].count(letters[i]) <= int(limits[i][1])):\n",
    "        total_valid+=1\n",
    "print(total_valid)\n"
   ]
  },
  {
   "cell_type": "markdown",
   "metadata": {},
   "source": [
    "# Part 2"
   ]
  },
  {
   "cell_type": "code",
   "execution_count": 31,
   "metadata": {},
   "outputs": [],
   "source": [
    "from itertools import combinations"
   ]
  },
  {
   "cell_type": "code",
   "execution_count": 39,
   "metadata": {},
   "outputs": [],
   "source": [
    "expenses = [int(expense) for expense in expenses]"
   ]
  },
  {
   "cell_type": "code",
   "execution_count": 47,
   "metadata": {},
   "outputs": [
    {
     "name": "stdout",
     "output_type": "stream",
     "text": [
      "Expense 1: 1614\n",
      "Expense 2: 210\n",
      "Expense 2: 196\n",
      "Expense Product: 66432240\n"
     ]
    }
   ],
   "source": [
    "for row in list(combinations(expenses, 3)):\n",
    "    if sum(row) == 2020:\n",
    "        print(f'Expense 1: {row[0]}')\n",
    "        print(f'Expense 2: {row[1]}')\n",
    "        print(f'Expense 2: {row[2]}')\n",
    "        print(f'Expense Product: {row[0] * row[1] * row[2]}')\n",
    "        break"
   ]
  }
 ],
 "metadata": {
  "kernelspec": {
   "display_name": "Python 3.9.12 ('base')",
   "language": "python",
   "name": "python3"
  },
  "language_info": {
   "codemirror_mode": {
    "name": "ipython",
    "version": 3
   },
   "file_extension": ".py",
   "mimetype": "text/x-python",
   "name": "python",
   "nbconvert_exporter": "python",
   "pygments_lexer": "ipython3",
   "version": "3.9.12"
  },
  "orig_nbformat": 4,
  "vscode": {
   "interpreter": {
    "hash": "3398a358859721ce27405e42f64a3e6acad3c1eab44e36de6ebc56b21922ba5f"
   }
  }
 },
 "nbformat": 4,
 "nbformat_minor": 2
}
